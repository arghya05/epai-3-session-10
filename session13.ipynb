{
 "cells": [
  {
   "cell_type": "markdown",
   "metadata": {},
   "source": [
    "## Submission for Assigment 13 ( Regular Polygon Class )\n"
   ]
  },
  {
   "cell_type": "code",
   "execution_count": 1,
   "metadata": {},
   "outputs": [],
   "source": [
    "# import the modules \n",
    "import regular_poly as rp\n",
    "import regular_poly_seq as ps"
   ]
  },
  {
   "cell_type": "markdown",
   "metadata": {},
   "source": [
    "## Part A\n",
    "### A regular strictly convex polygon is a polygon that has the following characteristics:\n",
    "### Create a Polygon Class\n",
    ">> 1. all interior angles are less than 180\n",
    ">> 2. all sides have equal length\n",
    "### For a regular strictly convex polygon with:\n",
    ">> 1. n edges (=n vertices)\n",
    ">> 2. R circumradius\n",
    ">> 3. interiorAngle=(n−2)⋅180n\n",
    ">> 4. edgeLength,s=2⋅R⋅sin(πn)\n",
    ">> 5. apothem,a=R⋅cos(πn)\n",
    ">> 6. area=12⋅n⋅s⋅a\n",
    ">> 7. perimeter=n⋅s"
   ]
  },
  {
   "cell_type": "markdown",
   "metadata": {},
   "source": [
    "### Create Polygon Class object with -\n",
    "#### 1. number of edges/vertices\n",
    "#### 2. circumradius"
   ]
  },
  {
   "cell_type": "code",
   "execution_count": 2,
   "metadata": {},
   "outputs": [],
   "source": [
    "square = rp.RegularPoly(4,4)"
   ]
  },
  {
   "cell_type": "markdown",
   "metadata": {},
   "source": [
    "#### Test \\_\\_repr__ function"
   ]
  },
  {
   "cell_type": "code",
   "execution_count": 3,
   "metadata": {},
   "outputs": [
    {
     "data": {
      "text/plain": [
       "'RegularPoly(4, 4)'"
      ]
     },
     "execution_count": 3,
     "metadata": {},
     "output_type": "execute_result"
    }
   ],
   "source": [
    "# Test __repr__ function\n",
    "square.__repr__()"
   ]
  },
  {
   "cell_type": "markdown",
   "metadata": {},
   "source": [
    "#### Test \\_\\_str__ function"
   ]
  },
  {
   "cell_type": "code",
   "execution_count": 4,
   "metadata": {},
   "outputs": [
    {
     "name": "stdout",
     "output_type": "stream",
     "text": [
      "Regular Polygon:-\n",
      " number of vertices = 4,\n",
      " radius = 4,                  \n",
      " interior angle = 114.59155902616465, \n",
      " edge length = 5.656854249492381,                  \n",
      " apothem = 2.8284271247461903, \n",
      " area = 32.00000000000001, \n",
      " perimeter = 22.627416997969522\n"
     ]
    }
   ],
   "source": [
    "# Test __str__ function\n",
    "print(square)"
   ]
  },
  {
   "cell_type": "code",
   "execution_count": 5,
   "metadata": {},
   "outputs": [],
   "source": [
    "# Create triangle\n",
    "triangle = rp.RegularPoly(3,3)"
   ]
  },
  {
   "cell_type": "code",
   "execution_count": 6,
   "metadata": {},
   "outputs": [
    {
     "name": "stdout",
     "output_type": "stream",
     "text": [
      "Regular Polygon:-\n",
      " number of vertices = 3,\n",
      " radius = 3,                  \n",
      " interior angle = 57.29577951308232, \n",
      " edge length = 5.196152422706632,                  \n",
      " apothem = 1.5000000000000004, \n",
      " area = 11.691342951089926, \n",
      " perimeter = 15.588457268119896\n"
     ]
    }
   ],
   "source": [
    "print(triangle)"
   ]
  },
  {
   "cell_type": "markdown",
   "metadata": {},
   "source": [
    "#### Test equality (==) based on # vertices and circumradius (\\_\\_eq__)"
   ]
  },
  {
   "cell_type": "code",
   "execution_count": 7,
   "metadata": {},
   "outputs": [
    {
     "data": {
      "text/plain": [
       "False"
      ]
     },
     "execution_count": 7,
     "metadata": {},
     "output_type": "execute_result"
    }
   ],
   "source": [
    "# equality (==) based on # vertices and circumradius (__eq__)\n",
    "square == triangle"
   ]
  },
  {
   "cell_type": "code",
   "execution_count": 8,
   "metadata": {},
   "outputs": [],
   "source": [
    "# Poly with 4 vertices and Circum Radius 4\n",
    "sqr2 = rp.RegularPoly(4,4)"
   ]
  },
  {
   "cell_type": "code",
   "execution_count": 9,
   "metadata": {},
   "outputs": [
    {
     "data": {
      "text/plain": [
       "True"
      ]
     },
     "execution_count": 9,
     "metadata": {},
     "output_type": "execute_result"
    }
   ],
   "source": [
    "square == sqr2"
   ]
  },
  {
   "cell_type": "markdown",
   "metadata": {},
   "source": [
    "#### Test > based on number of vertices only (\\_\\_gt__)"
   ]
  },
  {
   "cell_type": "code",
   "execution_count": 10,
   "metadata": {},
   "outputs": [
    {
     "data": {
      "text/plain": [
       "False"
      ]
     },
     "execution_count": 10,
     "metadata": {},
     "output_type": "execute_result"
    }
   ],
   "source": [
    "# > based on number of vertices only (__gt__)\n",
    "triangle > square"
   ]
  },
  {
   "cell_type": "code",
   "execution_count": 11,
   "metadata": {},
   "outputs": [
    {
     "data": {
      "text/plain": [
       "True"
      ]
     },
     "execution_count": 11,
     "metadata": {},
     "output_type": "execute_result"
    }
   ],
   "source": [
    "sqr2 > triangle"
   ]
  },
  {
   "cell_type": "markdown",
   "metadata": {},
   "source": [
    "## Part B\n",
    "### 1. Implement a Custom Polygon sequence type:\n",
    "### where initializer takes in:\n",
    "> 1. number of vertices for largest polygon in the sequence\n",
    "> 2. common circumradius for all polygons\n",
    "### 2. that can provide these properties:\n",
    "> 1. max efficiency polygon: returns the Polygon with the highest area: perimeter ratio\n",
    "### 3. that has these functionalities:\n",
    "> 1. functions as a sequence type (\\_\\_getitem__)\n",
    "> 2. supports the len() function (\\_\\_len__)\n",
    "> 3. has a proper representation (\\_\\_repr__)"
   ]
  },
  {
   "cell_type": "markdown",
   "metadata": {},
   "source": [
    "### Create the object for RegularPolySeq class ( Number of verticies = 25 and radius = 3)"
   ]
  },
  {
   "cell_type": "code",
   "execution_count": 12,
   "metadata": {},
   "outputs": [],
   "source": [
    "poly_25 = ps.RegularPolySeq(25,3)"
   ]
  },
  {
   "cell_type": "code",
   "execution_count": 13,
   "metadata": {},
   "outputs": [
    {
     "data": {
      "text/plain": [
       "[(RegularPoly(3, 3), 0.7500000000000002),\n",
       " (RegularPoly(4, 3), 1.0606601717798214),\n",
       " (RegularPoly(5, 3), 1.2135254915624212),\n",
       " (RegularPoly(6, 3), 1.299038105676658),\n",
       " (RegularPoly(7, 3), 1.3514533018536288),\n",
       " (RegularPoly(8, 3), 1.38581929876693),\n",
       " (RegularPoly(9, 3), 1.4095389311788626),\n",
       " (RegularPoly(10, 3), 1.4265847744427302),\n",
       " (RegularPoly(11, 3), 1.439239460421746),\n",
       " (RegularPoly(12, 3), 1.4488887394336025),\n",
       " (RegularPoly(13, 3), 1.456412726139078),\n",
       " (RegularPoly(14, 3), 1.4623918682727355),\n",
       " (RegularPoly(15, 3), 1.4672214011007085),\n",
       " (RegularPoly(16, 3), 1.4711779206048456),\n",
       " (RegularPoly(17, 3), 1.4744596495258526),\n",
       " (RegularPoly(18, 3), 1.477211629518312),\n",
       " (RegularPoly(19, 3), 1.4795419551040836),\n",
       " (RegularPoly(20, 3), 1.4815325108927067),\n",
       " (RegularPoly(21, 3), 1.4832462393376928),\n",
       " (RegularPoly(22, 3), 1.484732162821399),\n",
       " (RegularPoly(23, 3), 1.4860289190544962),\n",
       " (RegularPoly(24, 3), 1.4871672920607155),\n",
       " (RegularPoly(25, 3), 1.4881720519717168)]"
      ]
     },
     "execution_count": 13,
     "metadata": {},
     "output_type": "execute_result"
    }
   ],
   "source": [
    "list(poly_25) # Polygon object and area to perimeter ratio"
   ]
  },
  {
   "cell_type": "markdown",
   "metadata": {},
   "source": [
    "### functions as a sequence type (\\_\\_getitem__)"
   ]
  },
  {
   "cell_type": "code",
   "execution_count": 14,
   "metadata": {},
   "outputs": [
    {
     "data": {
      "text/plain": [
       "(RegularPoly(4, 3), 1.0606601717798214)"
      ]
     },
     "execution_count": 14,
     "metadata": {},
     "output_type": "execute_result"
    }
   ],
   "source": [
    "poly_25.__getitem__(1)"
   ]
  },
  {
   "cell_type": "markdown",
   "metadata": {},
   "source": [
    "### supports the len() function (\\_\\_len__)"
   ]
  },
  {
   "cell_type": "code",
   "execution_count": 15,
   "metadata": {},
   "outputs": [
    {
     "data": {
      "text/plain": [
       "23"
      ]
     },
     "execution_count": 15,
     "metadata": {},
     "output_type": "execute_result"
    }
   ],
   "source": [
    "poly_25.__len__()"
   ]
  },
  {
   "cell_type": "markdown",
   "metadata": {},
   "source": [
    "### proper representation (\\_\\_repr__)"
   ]
  },
  {
   "cell_type": "code",
   "execution_count": 16,
   "metadata": {},
   "outputs": [
    {
     "data": {
      "text/plain": [
       "'RegularPolySeq(25, 3)'"
      ]
     },
     "execution_count": 16,
     "metadata": {},
     "output_type": "execute_result"
    }
   ],
   "source": [
    "poly_25.__repr__()"
   ]
  },
  {
   "cell_type": "markdown",
   "metadata": {},
   "source": [
    "### Proper string representation (\\_\\_str__)"
   ]
  },
  {
   "cell_type": "code",
   "execution_count": 17,
   "metadata": {},
   "outputs": [
    {
     "name": "stdout",
     "output_type": "stream",
     "text": [
      "Polygon sequence with seq_len = 23 and common cirum_radius = 3\n"
     ]
    }
   ],
   "source": [
    "print(poly_25)"
   ]
  },
  {
   "cell_type": "markdown",
   "metadata": {},
   "source": [
    "### max efficiency polygon: returns the Polygon with the highest area: perimeter ratio"
   ]
  },
  {
   "cell_type": "code",
   "execution_count": 18,
   "metadata": {},
   "outputs": [
    {
     "data": {
      "text/plain": [
       "RegularPoly(25, 3)"
      ]
     },
     "execution_count": 18,
     "metadata": {},
     "output_type": "execute_result"
    }
   ],
   "source": [
    "poly_25.max_efficiency_poly"
   ]
  },
  {
   "cell_type": "code",
   "execution_count": null,
   "metadata": {},
   "outputs": [],
   "source": []
  }
 ],
 "metadata": {
  "kernelspec": {
   "display_name": "Python 3",
   "language": "python",
   "name": "python3"
  },
  "language_info": {
   "codemirror_mode": {
    "name": "ipython",
    "version": 3
   },
   "file_extension": ".py",
   "mimetype": "text/x-python",
   "name": "python",
   "nbconvert_exporter": "python",
   "pygments_lexer": "ipython3",
   "version": "3.7.7"
  }
 },
 "nbformat": 4,
 "nbformat_minor": 4
}
